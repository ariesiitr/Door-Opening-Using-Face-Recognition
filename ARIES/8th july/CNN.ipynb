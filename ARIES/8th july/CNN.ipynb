{
 "cells": [
  {
   "cell_type": "markdown",
   "id": "a6255a64",
   "metadata": {},
   "source": [
    "## Importing Dependencies"
   ]
  },
  {
   "cell_type": "code",
   "execution_count": 1,
   "id": "75d34028",
   "metadata": {},
   "outputs": [],
   "source": [
    "import tensorflow as tf\n",
    "# from keras.preprocessing.image import ImageDataGenerator\n",
    "from keras.models import Sequential\n",
    "from keras.layers import Conv2D, MaxPooling2D,LocallyConnected2D\n",
    "from keras.layers import Dense,Flatten, Dropout\n",
    "# from keras.utils import to_categorical\n",
    "# from keras import backend as K\n",
    "import keras"
   ]
  },
  {
   "cell_type": "markdown",
   "id": "56921cc4",
   "metadata": {},
   "source": [
    "## Importing Dependencies"
   ]
  },
  {
   "cell_type": "code",
   "execution_count": 2,
   "id": "5e0e2351",
   "metadata": {},
   "outputs": [],
   "source": [
    "from pathlib import Path\n",
    "import numpy as np\n",
    "import os\n",
    "import cv2\n",
    "import dlib"
   ]
  },
  {
   "cell_type": "markdown",
   "id": "fba5f29a",
   "metadata": {},
   "source": [
    "## Building model by using keras"
   ]
  },
  {
   "cell_type": "code",
   "execution_count": 3,
   "id": "7c1999e7",
   "metadata": {},
   "outputs": [],
   "source": [
    "model = Sequential()"
   ]
  },
  {
   "cell_type": "code",
   "execution_count": 4,
   "id": "7fd29d66",
   "metadata": {},
   "outputs": [],
   "source": [
    "model.add(Conv2D(32, (11, 11), activation='relu', name='C1', input_shape=(152, 152, 3)))"
   ]
  },
  {
   "cell_type": "code",
   "execution_count": 5,
   "id": "d76127ad",
   "metadata": {},
   "outputs": [],
   "source": [
    "model.add(MaxPooling2D(pool_size=3, strides=2, padding='same', name='M2'))"
   ]
  },
  {
   "cell_type": "code",
   "execution_count": 6,
   "id": "4dff333c",
   "metadata": {},
   "outputs": [],
   "source": [
    "model.add(Conv2D(16, (9, 9), activation='relu', name='C3'))"
   ]
  },
  {
   "cell_type": "code",
   "execution_count": 7,
   "id": "02c2dbc0",
   "metadata": {},
   "outputs": [],
   "source": [
    "model.add(LocallyConnected2D(16, (9, 9), activation='relu', name='L4'))"
   ]
  },
  {
   "cell_type": "code",
   "execution_count": 8,
   "id": "35192ad7",
   "metadata": {},
   "outputs": [],
   "source": [
    "model.add(LocallyConnected2D(16, (7, 7), strides=2, activation='relu', name='L5') )"
   ]
  },
  {
   "cell_type": "code",
   "execution_count": 9,
   "id": "cd641ce6",
   "metadata": {},
   "outputs": [],
   "source": [
    "model.add(LocallyConnected2D(16, (5, 5), activation='relu', name='L6'))"
   ]
  },
  {
   "cell_type": "code",
   "execution_count": 10,
   "id": "e3f08281",
   "metadata": {},
   "outputs": [],
   "source": [
    "model.add(Flatten(name='F0'))"
   ]
  },
  {
   "cell_type": "code",
   "execution_count": 11,
   "id": "732a0952",
   "metadata": {},
   "outputs": [],
   "source": [
    "model.add(Dense(4096, activation='relu', name='F7'))"
   ]
  },
  {
   "cell_type": "code",
   "execution_count": 12,
   "id": "1fce61eb",
   "metadata": {},
   "outputs": [],
   "source": [
    "model.add(Dropout(rate=0.5, name='D0'))"
   ]
  },
  {
   "cell_type": "code",
   "execution_count": 13,
   "id": "792096bb",
   "metadata": {},
   "outputs": [],
   "source": [
    "model.add(Dense(8631, activation='softmax', name='F8'))"
   ]
  },
  {
   "cell_type": "code",
   "execution_count": 14,
   "id": "5cff2bd8",
   "metadata": {},
   "outputs": [],
   "source": [
    "#Dropping last layer since we dont need it for our model\n",
    "deepface_model = keras.models.Model(inputs=model.layers[0].input, outputs=model.layers[-3].output)"
   ]
  },
  {
   "cell_type": "code",
   "execution_count": 15,
   "id": "3f74eebf",
   "metadata": {},
   "outputs": [],
   "source": [
    "#Loading weight of pretrained model\n",
    "model.load_weights(\"VGGFace2_weights.h5\")"
   ]
  },
  {
   "cell_type": "code",
   "execution_count": 16,
   "id": "3175c796",
   "metadata": {},
   "outputs": [],
   "source": [
    "# def normalize(x):\n",
    "#     return x / np.sqrt(np.sum(np.multiply(x, x)))"
   ]
  },
  {
   "cell_type": "markdown",
   "id": "3be9126a",
   "metadata": {},
   "source": [
    "## Function for finding Ecludiean Distance"
   ]
  },
  {
   "cell_type": "code",
   "execution_count": 17,
   "id": "520b3317",
   "metadata": {},
   "outputs": [],
   "source": [
    "def normalize(x):\n",
    "    return x / np.sqrt(np.sum(np.multiply(x, x)))\n",
    "def findEuclideanDistance(source_representation, test_representation):\n",
    "    euclidean_distance = source_representation - test_representation\n",
    "    euclidean_distance = np.sum(np.multiply(euclidean_distance, euclidean_distance))\n",
    "    euclidean_distance = np.sqrt(euclidean_distance)\n",
    "    return euclidean_distance"
   ]
  },
  {
   "cell_type": "markdown",
   "id": "54d5d42e",
   "metadata": {},
   "source": [
    "## Pre Processing"
   ]
  },
  {
   "cell_type": "code",
   "execution_count": 18,
   "id": "6b73de00",
   "metadata": {},
   "outputs": [],
   "source": [
    "#converting image to array\n",
    "def process_img(image_path):\n",
    "    test_image=tf.keras.preprocessing.image.load_img(image_path,target_size=(152,152))\n",
    "    test_image=tf.keras.preprocessing.image.img_to_array(test_image)\n",
    "    test_image=np.expand_dims(test_image,axis=0)\n",
    "    return test_image"
   ]
  },
  {
   "cell_type": "markdown",
   "id": "172ae48e",
   "metadata": {},
   "source": [
    "## Making Embedding Matrix"
   ]
  },
  {
   "cell_type": "code",
   "execution_count": 21,
   "id": "80d0814a",
   "metadata": {},
   "outputs": [
    {
     "name": "stdout",
     "output_type": "stream",
     "text": [
      "1/1 [==============================] - 0s 39ms/step\n",
      "1/1 [==============================] - 0s 39ms/step\n",
      "1/1 [==============================] - 0s 42ms/step\n",
      "1/1 [==============================] - 0s 40ms/step\n",
      "1/1 [==============================] - 0s 40ms/step\n",
      "1/1 [==============================] - 0s 39ms/step\n",
      "1/1 [==============================] - 0s 39ms/step\n",
      "1/1 [==============================] - 0s 39ms/step\n",
      "1/1 [==============================] - 0s 40ms/step\n",
      "1/1 [==============================] - 0s 40ms/step\n",
      "1/1 [==============================] - 0s 42ms/step\n",
      "1/1 [==============================] - 0s 38ms/step\n",
      "1/1 [==============================] - 0s 41ms/step\n",
      "1/1 [==============================] - 0s 39ms/step\n",
      "1/1 [==============================] - 0s 39ms/step\n",
      "1/1 [==============================] - 0s 38ms/step\n",
      "1/1 [==============================] - 0s 38ms/step\n",
      "1/1 [==============================] - 0s 40ms/step\n",
      "1/1 [==============================] - 0s 40ms/step\n",
      "1/1 [==============================] - 0s 38ms/step\n",
      "1/1 [==============================] - 0s 39ms/step\n",
      "1/1 [==============================] - 0s 41ms/step\n",
      "1/1 [==============================] - 0s 38ms/step\n",
      "1/1 [==============================] - 0s 39ms/step\n",
      "1/1 [==============================] - 0s 40ms/step\n",
      "1/1 [==============================] - 0s 40ms/step\n",
      "1/1 [==============================] - 0s 40ms/step\n",
      "1/1 [==============================] - 0s 39ms/step\n",
      "1/1 [==============================] - 0s 39ms/step\n",
      "1/1 [==============================] - 0s 38ms/step\n",
      "1/1 [==============================] - 0s 39ms/step\n",
      "1/1 [==============================] - 0s 40ms/step\n",
      "1/1 [==============================] - 0s 40ms/step\n",
      "1/1 [==============================] - 0s 40ms/step\n",
      "1/1 [==============================] - 0s 39ms/step\n",
      "1/1 [==============================] - 0s 40ms/step\n",
      "1/1 [==============================] - 0s 39ms/step\n",
      "1/1 [==============================] - 0s 44ms/step\n",
      "1/1 [==============================] - 0s 44ms/step\n",
      "1/1 [==============================] - 0s 43ms/step\n",
      "1/1 [==============================] - 0s 41ms/step\n"
     ]
    }
   ],
   "source": [
    "Embedding_List = [] # list of embeding matrix after conversion from cropped faces to embedding matrix using deepface\n",
    "Name_List = []  # list of names corrospoing to cropped photos\n",
    "for folderPath in os.listdir('dataset'): \n",
    "    fpath=os.path.join('dataset',folderPath) #traversing through all folders in the dataset\n",
    "    for imgpath in os.listdir(fpath): #traversing through all images in the sub folders of dataset\n",
    "        imagepath=os.path.join(fpath,imgpath)\n",
    "        Embedding_List.append(deepface_model.predict(process_img(imagepath))[0])\n",
    "        Name_List.append(folderPath)"
   ]
  },
  {
   "cell_type": "code",
   "execution_count": 22,
   "id": "a2da27e9",
   "metadata": {},
   "outputs": [
    {
     "name": "stdout",
     "output_type": "stream",
     "text": [
      "Avishkar Pawar\n",
      "[  0.        0.      367.02005 ...   0.        0.        0.     ]\n",
      "Avishkar Pawar\n",
      "[  0.      275.09354   0.      ...   0.        0.        0.     ]\n",
      "Avishkar Pawar\n",
      "[0. 0. 0. ... 0. 0. 0.]\n",
      "Avishkar Pawar\n",
      "[  0.        0.        0.      ...   0.      396.6325  330.40582]\n",
      "Avishkar Pawar\n",
      "[0.        0.        1.4732075 ... 0.        0.        0.       ]\n",
      "Avishkar Pawar\n",
      "[  0.         0.       159.023    ...   0.        45.243626   0.      ]\n",
      "Avishkar Pawar\n",
      "[  0.        0.        0.      ...   0.        0.      237.14462]\n",
      "Avishkar Pawar\n",
      "[0. 0. 0. ... 0. 0. 0.]\n",
      "Avishkar Pawar\n",
      "[  0.         0.         0.       ...   0.         0.       110.738655]\n",
      "Avishkar Pawar\n",
      "[  0.      0.    278.328 ...   0.      0.      0.   ]\n",
      "Avishkar Pawar\n",
      "[  0.       389.4469   101.198616 ...   0.         0.         0.      ]\n",
      "Avishkar Pawar\n",
      "[  0.        0.        0.      ...   0.      477.19467 256.21252]\n",
      "Avishkar Pawar\n",
      "[  0.        0.        0.      ...   0.      477.19467 256.21252]\n",
      "Gal Gaddot\n",
      "[  0.       0.       0.     ...   0.     684.8437 279.2188]\n",
      "Gal Gaddot\n",
      "[   0.        0.        0.     ...    0.     1113.251   422.2088]\n",
      "Gal Gaddot\n",
      "[   0.         0.         0.      ...    0.      1345.5961   881.30896]\n",
      "Gal Gaddot\n",
      "[  0.        0.        0.      ...   0.      625.2119  474.84204]\n",
      "Gal Gaddot\n",
      "[   0.         0.         0.      ...    0.      1122.8042   600.24426]\n",
      "Gal Gaddot\n",
      "[   0.        0.        0.     ...    0.     1533.4424  750.0792]\n",
      "Gal Gaddot\n",
      "[  0.        0.        0.      ...   0.      480.95337 414.55637]\n",
      "Gal Gaddot\n",
      "[  0.        0.        0.      ...   0.      223.51309 685.48724]\n",
      "Gal Gaddot\n",
      "[   0.         0.         0.      ...    0.      1743.9119   655.70667]\n",
      "Gal Gaddot\n",
      "[   0.         0.         0.      ...    0.      1522.4491   600.44574]\n",
      "Om Gupta\n",
      "[  0.       0.       0.     ...   0.     578.4426 455.3279]\n",
      "Om Gupta\n",
      "[  0.        0.        0.      ...   0.      681.79474 403.7186 ]\n",
      "Om Gupta\n",
      "[ 0.       0.       0.      ...  0.       0.      90.84582]\n",
      "Om Gupta\n",
      "[  0.        0.        0.      ...   0.       27.76162 248.0256 ]\n",
      "Om Gupta\n",
      "[  0.        0.        0.      ...   0.      158.01453   0.     ]\n",
      "Om Gupta\n",
      "[  0.        0.        0.      ...   0.        0.      170.51038]\n",
      "Om Gupta\n",
      "[  0.         0.         0.       ...   0.       295.7662    45.292248]\n",
      "Tom Holland\n",
      "[  0.        0.        0.      ...   0.        0.      220.86014]\n",
      "Tom Holland\n",
      "[  0.        0.        0.      ...   0.      161.89473   0.     ]\n",
      "Tom Holland\n",
      "[  0.        0.        0.      ...   0.      188.6694  120.92125]\n",
      "Tom Holland\n",
      "[  0.        0.        0.      ...   0.      410.98132 253.77109]\n",
      "Tom Holland\n",
      "[0. 0. 0. ... 0. 0. 0.]\n",
      "Tom Holland\n",
      "[  0.        0.        0.      ...   0.        0.      438.77664]\n",
      "Tom Holland\n",
      "[  0.       0.       0.     ...   0.     459.1402 351.1174]\n",
      "Tom Holland\n",
      "[0. 0. 0. ... 0. 0. 0.]\n",
      "Tom Holland\n",
      "[0. 0. 0. ... 0. 0. 0.]\n",
      "Tom Holland\n",
      "[  0.        0.        0.      ...   0.      258.90018 532.6751 ]\n",
      "Tom Holland\n",
      "[  0.        0.        0.      ...   0.        0.      284.70016]\n"
     ]
    }
   ],
   "source": [
    "for i in range (len(Name_List)): #printing name and corresponding embedding matrix\n",
    "    print(Name_List[i]) \n",
    "    print(Embedding_List[i])"
   ]
  },
  {
   "cell_type": "code",
   "execution_count": 23,
   "id": "ed6c2f01",
   "metadata": {},
   "outputs": [
    {
     "name": "stderr",
     "output_type": "stream",
     "text": [
      "C:\\ProgramData\\Anaconda3\\lib\\site-packages\\numpy\\lib\\npyio.py:528: VisibleDeprecationWarning: Creating an ndarray from ragged nested sequences (which is a list-or-tuple of lists-or-tuples-or ndarrays with different lengths or shapes) is deprecated. If you meant to do this, you must specify 'dtype=object' when creating the ndarray.\n",
      "  arr = np.asanyarray(arr)\n"
     ]
    }
   ],
   "source": [
    "#saving data\n",
    "data = [Name_List, Embedding_List]\n",
    "np.save('data.npy', data)"
   ]
  },
  {
   "cell_type": "code",
   "execution_count": 24,
   "id": "88444206",
   "metadata": {},
   "outputs": [],
   "source": [
    "#Loading data\n",
    "load_data=np.load('data.npy', allow_pickle=True)\n",
    "name_list=load_data[0]\n",
    "embedding_list = load_data[1]"
   ]
  },
  {
   "cell_type": "code",
   "execution_count": 25,
   "id": "bfaa0c28",
   "metadata": {},
   "outputs": [
    {
     "name": "stdout",
     "output_type": "stream",
     "text": [
      "Avishkar Pawar\n",
      "[  0.        0.      367.02005 ...   0.        0.        0.     ]\n",
      "Avishkar Pawar\n",
      "[  0.      275.09354   0.      ...   0.        0.        0.     ]\n",
      "Avishkar Pawar\n",
      "[0. 0. 0. ... 0. 0. 0.]\n",
      "Avishkar Pawar\n",
      "[  0.        0.        0.      ...   0.      396.6325  330.40582]\n",
      "Avishkar Pawar\n",
      "[0.        0.        1.4732075 ... 0.        0.        0.       ]\n",
      "Avishkar Pawar\n",
      "[  0.         0.       159.023    ...   0.        45.243626   0.      ]\n",
      "Avishkar Pawar\n",
      "[  0.        0.        0.      ...   0.        0.      237.14462]\n",
      "Avishkar Pawar\n",
      "[0. 0. 0. ... 0. 0. 0.]\n",
      "Avishkar Pawar\n",
      "[  0.         0.         0.       ...   0.         0.       110.738655]\n",
      "Avishkar Pawar\n",
      "[  0.      0.    278.328 ...   0.      0.      0.   ]\n",
      "Avishkar Pawar\n",
      "[  0.       389.4469   101.198616 ...   0.         0.         0.      ]\n",
      "Avishkar Pawar\n",
      "[  0.        0.        0.      ...   0.      477.19467 256.21252]\n",
      "Avishkar Pawar\n",
      "[  0.        0.        0.      ...   0.      477.19467 256.21252]\n",
      "Gal Gaddot\n",
      "[  0.       0.       0.     ...   0.     684.8437 279.2188]\n",
      "Gal Gaddot\n",
      "[   0.        0.        0.     ...    0.     1113.251   422.2088]\n",
      "Gal Gaddot\n",
      "[   0.         0.         0.      ...    0.      1345.5961   881.30896]\n",
      "Gal Gaddot\n",
      "[  0.        0.        0.      ...   0.      625.2119  474.84204]\n",
      "Gal Gaddot\n",
      "[   0.         0.         0.      ...    0.      1122.8042   600.24426]\n",
      "Gal Gaddot\n",
      "[   0.        0.        0.     ...    0.     1533.4424  750.0792]\n",
      "Gal Gaddot\n",
      "[  0.        0.        0.      ...   0.      480.95337 414.55637]\n",
      "Gal Gaddot\n",
      "[  0.        0.        0.      ...   0.      223.51309 685.48724]\n",
      "Gal Gaddot\n",
      "[   0.         0.         0.      ...    0.      1743.9119   655.70667]\n",
      "Gal Gaddot\n",
      "[   0.         0.         0.      ...    0.      1522.4491   600.44574]\n",
      "Om Gupta\n",
      "[  0.       0.       0.     ...   0.     578.4426 455.3279]\n",
      "Om Gupta\n",
      "[  0.        0.        0.      ...   0.      681.79474 403.7186 ]\n",
      "Om Gupta\n",
      "[ 0.       0.       0.      ...  0.       0.      90.84582]\n",
      "Om Gupta\n",
      "[  0.        0.        0.      ...   0.       27.76162 248.0256 ]\n",
      "Om Gupta\n",
      "[  0.        0.        0.      ...   0.      158.01453   0.     ]\n",
      "Om Gupta\n",
      "[  0.        0.        0.      ...   0.        0.      170.51038]\n",
      "Om Gupta\n",
      "[  0.         0.         0.       ...   0.       295.7662    45.292248]\n",
      "Tom Holland\n",
      "[  0.        0.        0.      ...   0.        0.      220.86014]\n",
      "Tom Holland\n",
      "[  0.        0.        0.      ...   0.      161.89473   0.     ]\n",
      "Tom Holland\n",
      "[  0.        0.        0.      ...   0.      188.6694  120.92125]\n",
      "Tom Holland\n",
      "[  0.        0.        0.      ...   0.      410.98132 253.77109]\n",
      "Tom Holland\n",
      "[0. 0. 0. ... 0. 0. 0.]\n",
      "Tom Holland\n",
      "[  0.        0.        0.      ...   0.        0.      438.77664]\n",
      "Tom Holland\n",
      "[  0.       0.       0.     ...   0.     459.1402 351.1174]\n",
      "Tom Holland\n",
      "[0. 0. 0. ... 0. 0. 0.]\n",
      "Tom Holland\n",
      "[0. 0. 0. ... 0. 0. 0.]\n",
      "Tom Holland\n",
      "[  0.        0.        0.      ...   0.      258.90018 532.6751 ]\n",
      "Tom Holland\n",
      "[  0.        0.        0.      ...   0.        0.      284.70016]\n"
     ]
    }
   ],
   "source": [
    "for i in range (len(name_list)): #printing name and corresponding embedding matrix\n",
    "    print(name_list[i]) \n",
    "    print(embedding_list[i])"
   ]
  },
  {
   "cell_type": "code",
   "execution_count": 26,
   "id": "2455b33f",
   "metadata": {},
   "outputs": [],
   "source": [
    "def predict(image):\n",
    "    dist_list = [] #making distance list array\n",
    "    R_embedding = deepface_model.predict(process_img(image))[0]\n",
    "    for emb_db in embedding_list:\n",
    "        euclidean_distance = findEuclideanDistance(normalize(R_embedding),normalize(emb_db))\n",
    "        dist_list.append(euclidean_distance)\n",
    "    min_dist = min(dist_list) #finding min distance\n",
    "    print(min_dist)\n",
    "    if min_dist<1.01: #condition for surity, this value is selected by us by oberving its value for difernet persons \n",
    "        min_dist_idx = dist_list.index(min_dist)\n",
    "        name = name_list[min_dist_idx]\n",
    "        return name\n",
    "    else:\n",
    "        name  = 'unkown'\n",
    "        return name"
   ]
  },
  {
   "cell_type": "markdown",
   "id": "4a1301e3",
   "metadata": {},
   "source": [
    "## Realtime Face-Detector"
   ]
  },
  {
   "cell_type": "code",
   "execution_count": 27,
   "id": "5101edb5",
   "metadata": {},
   "outputs": [
    {
     "name": "stdout",
     "output_type": "stream",
     "text": [
      "1/1 [==============================] - 0s 39ms/step\n",
      "1.1122779\n",
      "1/1 [==============================] - 0s 40ms/step\n",
      "1.0817903\n",
      "1/1 [==============================] - 0s 42ms/step\n",
      "0.95939726\n",
      "1/1 [==============================] - 0s 40ms/step\n",
      "0.9860109\n",
      "1/1 [==============================] - 0s 40ms/step\n",
      "0.92641336\n",
      "1/1 [==============================] - 0s 41ms/step\n",
      "1.0636266\n",
      "1/1 [==============================] - 0s 39ms/step\n",
      "0.99212897\n",
      "1/1 [==============================] - 0s 41ms/step\n",
      "1.040573\n",
      "1/1 [==============================] - 0s 41ms/step\n",
      "1.0162853\n",
      "1/1 [==============================] - 0s 40ms/step\n",
      "1.0148302\n",
      "1/1 [==============================] - 0s 41ms/step\n",
      "1.040246\n",
      "1/1 [==============================] - 0s 40ms/step\n",
      "1.0768018\n",
      "1/1 [==============================] - 0s 41ms/step\n",
      "1.0407497\n",
      "1/1 [==============================] - 0s 42ms/step\n",
      "1.0365125\n",
      "1/1 [==============================] - 0s 41ms/step\n",
      "1.0216671\n",
      "1/1 [==============================] - 0s 39ms/step\n",
      "1.0154253\n",
      "1/1 [==============================] - 0s 41ms/step\n",
      "1.0154198\n",
      "1/1 [==============================] - 0s 43ms/step\n",
      "1.0371547\n",
      "1/1 [==============================] - 0s 40ms/step\n",
      "1.0328315\n",
      "1/1 [==============================] - 0s 40ms/step\n",
      "1.0250152\n",
      "1/1 [==============================] - 0s 40ms/step\n",
      "1.0331398\n",
      "1/1 [==============================] - 0s 41ms/step\n",
      "0.9862585\n",
      "1/1 [==============================] - 0s 41ms/step\n",
      "1.0890465\n",
      "1/1 [==============================] - 0s 40ms/step\n",
      "1.1180383\n",
      "1/1 [==============================] - 0s 40ms/step\n",
      "0.7447218\n",
      "1/1 [==============================] - 0s 42ms/step\n",
      "0.9820475\n",
      "1/1 [==============================] - 0s 43ms/step\n",
      "0.9745375\n",
      "1/1 [==============================] - 0s 40ms/step\n",
      "0.89501065\n",
      "1/1 [==============================] - 0s 44ms/step\n",
      "0.7813963\n",
      "1/1 [==============================] - 0s 40ms/step\n",
      "0.8304128\n",
      "1/1 [==============================] - 0s 39ms/step\n",
      "0.8299369\n",
      "1/1 [==============================] - 0s 40ms/step\n",
      "0.9016212\n",
      "1/1 [==============================] - 0s 39ms/step\n",
      "0.92103904\n",
      "1/1 [==============================] - 0s 38ms/step\n",
      "0.8912759\n",
      "1/1 [==============================] - 0s 41ms/step\n",
      "0.90199596\n",
      "1/1 [==============================] - 0s 40ms/step\n",
      "0.93893707\n",
      "1/1 [==============================] - 0s 40ms/step\n",
      "0.98400754\n",
      "1/1 [==============================] - 0s 40ms/step\n",
      "0.9942452\n",
      "1/1 [==============================] - 0s 41ms/step\n",
      "0.99200344\n",
      "1/1 [==============================] - 0s 41ms/step\n",
      "1.0052896\n",
      "1/1 [==============================] - 0s 41ms/step\n",
      "0.9797528\n",
      "1/1 [==============================] - 0s 40ms/step\n",
      "0.9767979\n",
      "1/1 [==============================] - 0s 42ms/step\n",
      "0.97537434\n",
      "1/1 [==============================] - 0s 40ms/step\n",
      "0.96730924\n",
      "1/1 [==============================] - 0s 40ms/step\n",
      "1.0503719\n",
      "1/1 [==============================] - 0s 38ms/step\n",
      "1.0088865\n",
      "1/1 [==============================] - 0s 39ms/step\n",
      "1.0111341\n",
      "1/1 [==============================] - 0s 39ms/step\n",
      "1.0127249\n",
      "1/1 [==============================] - 0s 40ms/step\n",
      "1.0832403\n",
      "1/1 [==============================] - 0s 42ms/step\n",
      "1.0037879\n",
      "1/1 [==============================] - 0s 39ms/step\n",
      "1.0245975\n",
      "1/1 [==============================] - 0s 38ms/step\n",
      "1.0070662\n",
      "1/1 [==============================] - 0s 38ms/step\n",
      "1.0075933\n",
      "1/1 [==============================] - 0s 42ms/step\n",
      "1.0083001\n",
      "1/1 [==============================] - 0s 39ms/step\n",
      "1.0067527\n",
      "1/1 [==============================] - 0s 39ms/step\n",
      "0.9854898\n",
      "1/1 [==============================] - 0s 39ms/step\n",
      "0.88286656\n",
      "1/1 [==============================] - 0s 42ms/step\n",
      "0.82198435\n",
      "1/1 [==============================] - 0s 39ms/step\n",
      "0.8149153\n",
      "1/1 [==============================] - 0s 40ms/step\n",
      "0.81511676\n",
      "1/1 [==============================] - 0s 39ms/step\n",
      "0.81239027\n",
      "1/1 [==============================] - 0s 39ms/step\n",
      "0.80683964\n",
      "1/1 [==============================] - 0s 39ms/step\n",
      "0.81173104\n",
      "1/1 [==============================] - 0s 39ms/step\n",
      "0.8291444\n",
      "1/1 [==============================] - 0s 40ms/step\n",
      "0.8351688\n",
      "1/1 [==============================] - 0s 38ms/step\n",
      "0.8330854\n",
      "1/1 [==============================] - 0s 38ms/step\n",
      "0.84247756\n",
      "1/1 [==============================] - 0s 40ms/step\n",
      "0.84107053\n",
      "1/1 [==============================] - 0s 42ms/step\n",
      "0.8365549\n",
      "1/1 [==============================] - 0s 40ms/step\n",
      "1.1628734\n",
      "1/1 [==============================] - 0s 40ms/step\n",
      "1.1495804\n",
      "1/1 [==============================] - 0s 40ms/step\n",
      "1.1181742\n",
      "1/1 [==============================] - 0s 39ms/step\n",
      "1.0879469\n",
      "Escape hit, closing...\n"
     ]
    }
   ],
   "source": [
    "#intial cropping boundaries\n",
    "l=0\n",
    "r=0\n",
    "t=0\n",
    "b=0\n",
    "detector = dlib.get_frontal_face_detector() #face detection using hog\n",
    "cam = cv2.VideoCapture(0)\n",
    "while True:\n",
    "    ret, frame = cam.read()\n",
    "    \n",
    "    if not ret:\n",
    "        print(\"no img error...\")\n",
    "        break\n",
    "    \n",
    "    img_rgb = cv2.cvtColor(frame, cv2.COLOR_BGR2RGB) #converting image from BGR to RGB\n",
    "        \n",
    "    dect_box = detector(img_rgb) #identifies the face location and provides its location\n",
    "\n",
    "            \n",
    "    for box in dect_box:\n",
    "        l=box.left()+15\n",
    "        r=box.right()-15\n",
    "        b=box.bottom()\n",
    "        t=box.top()\n",
    "        cv2.rectangle(frame, (box.left(), box.top()),(box.right(),box.bottom()), (0,255,0),1) # drawing rectangle around the face\n",
    "    \n",
    "    \n",
    "    if (t<=0 or b<=0 or l<=0 or r<=0): #condition to avoid crashing when boundaries become negative\n",
    "        cv2.imshow('video', frame)\n",
    "        \n",
    "    elif(not dect_box): #condition to avoid crashing when no face detected\n",
    "        cv2.imshow('video', frame)\n",
    "\n",
    "\n",
    "    else:\n",
    "        crop_img = frame[t:b,l:r]\n",
    "        Path('Test_face/').mkdir(parents=True, exist_ok = True)\n",
    "        cv2.imwrite('Test_face/newface.jpg',crop_img)\n",
    "        R_ImagePath='Test_face/newface.jpg'\n",
    "        predicted_name = predict(R_ImagePath)\n",
    "        cv2.putText(frame, predicted_name, (l,t-5),cv2.FONT_HERSHEY_SIMPLEX, 1, (0,255,0),2,cv2.LINE_AA) #writing name of the predicted person above the rectangle\n",
    "        cv2.imshow('video', frame)\n",
    "    \n",
    "    k = cv2.waitKey(1) #closing the video feed\n",
    "    if k%256 == 27:\n",
    "        # ESC pressed\n",
    "        print(\"Escape hit, closing...\")\n",
    "        break\n",
    "\n",
    "cam.release()\n",
    "cv2.destroyAllWindows() "
   ]
  },
  {
   "cell_type": "code",
   "execution_count": null,
   "id": "41eb1408",
   "metadata": {},
   "outputs": [],
   "source": [
    "#Emergency brakes\n",
    "cam.release()\n",
    "cv2.destroyAllWindows()  "
   ]
  },
  {
   "cell_type": "code",
   "execution_count": null,
   "id": "4ef6ae4b",
   "metadata": {},
   "outputs": [],
   "source": []
  }
 ],
 "metadata": {
  "kernelspec": {
   "display_name": "Python 3 (ipykernel)",
   "language": "python",
   "name": "python3"
  },
  "language_info": {
   "codemirror_mode": {
    "name": "ipython",
    "version": 3
   },
   "file_extension": ".py",
   "mimetype": "text/x-python",
   "name": "python",
   "nbconvert_exporter": "python",
   "pygments_lexer": "ipython3",
   "version": "3.9.12"
  }
 },
 "nbformat": 4,
 "nbformat_minor": 5
}
